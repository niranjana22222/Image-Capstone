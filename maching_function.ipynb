{
 "cells": [
  {
   "cell_type": "code",
   "execution_count": 1,
   "id": "6f8725c2",
   "metadata": {},
   "outputs": [],
   "source": [
    "import numpy as np\n",
    "import cv2"
   ]
  },
  {
   "cell_type": "code",
   "execution_count": 2,
   "id": "a890125b",
   "metadata": {},
   "outputs": [],
   "source": [
    "# Functionality to see if a new descriptor has a match in your database, given the aforementioned cutoff threshold.\n",
    "\n",
    "\n",
    "\n",
    "def find_match(new_descriptor, database, threshold):\n",
    "    for name, profile in database.profiles.items():\n",
    "        if cosine_distance(new_descriptor, profile.descriptor) > threshold:\n",
    "            return name\n",
    "    return \"Unknown\"\n",
    "\n",
    "        "
   ]
  },
  {
   "cell_type": "code",
   "execution_count": null,
   "id": "cd082f30",
   "metadata": {},
   "outputs": [],
   "source": [
    "\n",
    "\n",
    "    \n"
   ]
  },
  {
   "cell_type": "code",
   "execution_count": 3,
   "id": "eacf8b40",
   "metadata": {},
   "outputs": [],
   "source": [
    "# Functionality to display an image with a box around detected faces with labels to indicate matches or an “Unknown” label otherwise\n",
    "\n",
    "\n",
    "def display_faces(image_path, detections, database, threshold):\n",
    "    image = cv2.imread(image_path)\n",
    "    for (x, y, w, h, descriptor) in detections:\n",
    "        name = find_match(descriptor, database, threshold)\n",
    "        cv2.rectangle(image, (x, y), (x+w, y+h), (255, 0, 0), 2)\n",
    "        cv2.putText(image, name, (x, y-10), cv2.FONT_HERSHEY_SIMPLEX, 0.9, (255, 0, 0), 2)\n",
    "    cv2.imshow('Faces', image)\n",
    "    cv2.waitKey(0)\n",
    "    cv2.destroyAllWindows()\n"
   ]
  },
  {
   "cell_type": "code",
   "execution_count": null,
   "id": "b4c19537",
   "metadata": {},
   "outputs": [],
   "source": []
  }
 ],
 "metadata": {
  "jupytext": {
   "main_language": "python",
   "notebook_metadata_filter": "nbsphinx,-kernelspec"
  },
  "kernelspec": {
   "display_name": "Python 3 (ipykernel)",
   "language": "python",
   "name": "python3"
  },
  "language_info": {
   "codemirror_mode": {
    "name": "ipython",
    "version": 3
   },
   "file_extension": ".py",
   "mimetype": "text/x-python",
   "name": "python",
   "nbconvert_exporter": "python",
   "pygments_lexer": "ipython3",
   "version": "3.11.7"
  },
  "nbsphinx": {
   "execute": "never"
  }
 },
 "nbformat": 4,
 "nbformat_minor": 5
}
